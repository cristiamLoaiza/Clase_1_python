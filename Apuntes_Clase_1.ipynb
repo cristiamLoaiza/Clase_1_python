{
 "cells": [
  {
   "cell_type": "markdown",
   "id": "c5c27e91",
   "metadata": {},
   "source": [
    "# Lista"
   ]
  },
  {
   "cell_type": "code",
   "execution_count": 1,
   "id": "c8de202b",
   "metadata": {},
   "outputs": [],
   "source": [
    "list_str = \"palabra\""
   ]
  },
  {
   "cell_type": "code",
   "execution_count": 2,
   "id": "45dcd6b6",
   "metadata": {},
   "outputs": [
    {
     "data": {
      "text/plain": [
       "'a'"
      ]
     },
     "execution_count": 2,
     "metadata": {},
     "output_type": "execute_result"
    }
   ],
   "source": [
    "list_str[-1]"
   ]
  },
  {
   "cell_type": "code",
   "execution_count": 3,
   "id": "6ba65113",
   "metadata": {
    "scrolled": true
   },
   "outputs": [
    {
     "name": "stdout",
     "output_type": "stream",
     "text": [
      "p\n",
      "a\n",
      "l\n",
      "a\n",
      "b\n",
      "r\n",
      "a\n"
     ]
    }
   ],
   "source": [
    "for letra in list_str:\n",
    "    print(letra)"
   ]
  },
  {
   "cell_type": "code",
   "execution_count": 4,
   "id": "1220a7d5",
   "metadata": {},
   "outputs": [],
   "source": [
    "l = [1,2,6,7]"
   ]
  },
  {
   "cell_type": "code",
   "execution_count": 5,
   "id": "3fd4eec6",
   "metadata": {},
   "outputs": [
    {
     "name": "stdout",
     "output_type": "stream",
     "text": [
      "1\n"
     ]
    }
   ],
   "source": [
    "print(l[-4])"
   ]
  },
  {
   "cell_type": "code",
   "execution_count": 6,
   "id": "ac72443c",
   "metadata": {},
   "outputs": [
    {
     "name": "stdout",
     "output_type": "stream",
     "text": [
      "1\n",
      "2\n",
      "6\n",
      "7\n"
     ]
    }
   ],
   "source": [
    "for valor in l:\n",
    "    print(valor)"
   ]
  },
  {
   "cell_type": "markdown",
   "id": "012edd22",
   "metadata": {},
   "source": [
    "---"
   ]
  },
  {
   "cell_type": "code",
   "execution_count": 7,
   "id": "bb14c955",
   "metadata": {},
   "outputs": [],
   "source": [
    "list_tupla= (1,2,4,6)"
   ]
  },
  {
   "cell_type": "code",
   "execution_count": 8,
   "id": "cc726159",
   "metadata": {},
   "outputs": [
    {
     "ename": "TypeError",
     "evalue": "'tuple' object does not support item assignment",
     "output_type": "error",
     "traceback": [
      "\u001b[1;31m---------------------------------------------------------------------------\u001b[0m",
      "\u001b[1;31mTypeError\u001b[0m                                 Traceback (most recent call last)",
      "Input \u001b[1;32mIn [8]\u001b[0m, in \u001b[0;36m<cell line: 1>\u001b[1;34m()\u001b[0m\n\u001b[1;32m----> 1\u001b[0m list_tupla[\u001b[38;5;241m0\u001b[39m]  \u001b[38;5;241m=\u001b[39m \u001b[38;5;241m7\u001b[39m\n",
      "\u001b[1;31mTypeError\u001b[0m: 'tuple' object does not support item assignment"
     ]
    }
   ],
   "source": [
    "list_tupla[0]  = 7"
   ]
  },
  {
   "cell_type": "code",
   "execution_count": null,
   "id": "a29bf9a3",
   "metadata": {},
   "outputs": [],
   "source": [
    "list_lista= [1,2,4,6]"
   ]
  },
  {
   "cell_type": "code",
   "execution_count": null,
   "id": "2977cd69",
   "metadata": {},
   "outputs": [],
   "source": [
    "list_lista"
   ]
  },
  {
   "cell_type": "code",
   "execution_count": null,
   "id": "107ff9f6",
   "metadata": {},
   "outputs": [],
   "source": [
    "list_lista[0] = 7"
   ]
  },
  {
   "cell_type": "code",
   "execution_count": null,
   "id": "e2313f7f",
   "metadata": {},
   "outputs": [],
   "source": [
    "list_lista"
   ]
  },
  {
   "cell_type": "markdown",
   "id": "de37b42f",
   "metadata": {},
   "source": [
    "---"
   ]
  },
  {
   "cell_type": "code",
   "execution_count": null,
   "id": "3a900388",
   "metadata": {},
   "outputs": [],
   "source": [
    "lista_variada = [\"a\",\"palabra\",5.6,4,5.678687, True, False]"
   ]
  },
  {
   "cell_type": "code",
   "execution_count": null,
   "id": "ed76f88c",
   "metadata": {},
   "outputs": [],
   "source": [
    "for valores in lista_variada:\n",
    "    print(valores * 4)"
   ]
  },
  {
   "cell_type": "code",
   "execution_count": null,
   "id": "9e382d22",
   "metadata": {},
   "outputs": [],
   "source": [
    "lista_variada[:]"
   ]
  },
  {
   "cell_type": "code",
   "execution_count": null,
   "id": "e2e7945b",
   "metadata": {},
   "outputs": [],
   "source": [
    "lista_variada[1:4]"
   ]
  },
  {
   "cell_type": "markdown",
   "id": "cd033104",
   "metadata": {},
   "source": [
    "---"
   ]
  },
  {
   "cell_type": "code",
   "execution_count": null,
   "id": "8756d9ce",
   "metadata": {},
   "outputs": [],
   "source": [
    "\"a\" * 8 "
   ]
  },
  {
   "cell_type": "markdown",
   "id": "f8195f7a",
   "metadata": {},
   "source": [
    "---"
   ]
  },
  {
   "cell_type": "markdown",
   "id": "26c97cd9",
   "metadata": {},
   "source": [
    "# Listas dinamicas"
   ]
  },
  {
   "cell_type": "code",
   "execution_count": null,
   "id": "c566b791",
   "metadata": {},
   "outputs": [],
   "source": [
    "lista_dinamica = []"
   ]
  },
  {
   "cell_type": "code",
   "execution_count": null,
   "id": "a6ca2b68",
   "metadata": {},
   "outputs": [],
   "source": [
    "print(lista_dinamica)"
   ]
  },
  {
   "cell_type": "code",
   "execution_count": null,
   "id": "dc68b720",
   "metadata": {},
   "outputs": [],
   "source": [
    "lista_dinamica.append(4)"
   ]
  },
  {
   "cell_type": "code",
   "execution_count": null,
   "id": "7124e777",
   "metadata": {},
   "outputs": [],
   "source": [
    "print(lista_dinamica)"
   ]
  },
  {
   "cell_type": "code",
   "execution_count": null,
   "id": "d42db9dd",
   "metadata": {},
   "outputs": [],
   "source": [
    "lista_dinamica.append(67)"
   ]
  },
  {
   "cell_type": "code",
   "execution_count": null,
   "id": "f7ff10b3",
   "metadata": {},
   "outputs": [],
   "source": [
    "print(lista_dinamica)"
   ]
  },
  {
   "cell_type": "code",
   "execution_count": null,
   "id": "daec545b",
   "metadata": {},
   "outputs": [],
   "source": [
    "lista_dinamica_2 = []"
   ]
  },
  {
   "cell_type": "code",
   "execution_count": null,
   "id": "10927abc",
   "metadata": {},
   "outputs": [],
   "source": [
    "for valores in range(990,1000):\n",
    "    if (valores%2 == 0):\n",
    "        lista_dinamica_2.append(valores)\n",
    "    "
   ]
  },
  {
   "cell_type": "code",
   "execution_count": null,
   "id": "a268de54",
   "metadata": {},
   "outputs": [],
   "source": [
    "print(lista_dinamica_2)"
   ]
  },
  {
   "cell_type": "markdown",
   "id": "1c19b734",
   "metadata": {},
   "source": [
    "---"
   ]
  },
  {
   "cell_type": "code",
   "execution_count": null,
   "id": "cc416ec9",
   "metadata": {},
   "outputs": [],
   "source": [
    "list_n = []"
   ]
  },
  {
   "cell_type": "code",
   "execution_count": null,
   "id": "bdc7e620",
   "metadata": {},
   "outputs": [],
   "source": [
    "list_n.append(\"A\")\n",
    "list_n.append(\"B\")\n",
    "list_n.append(\"C\")\n",
    "list_n.append(\"D\")\n"
   ]
  },
  {
   "cell_type": "code",
   "execution_count": null,
   "id": "499a473d",
   "metadata": {},
   "outputs": [],
   "source": [
    "list_n"
   ]
  },
  {
   "cell_type": "code",
   "execution_count": null,
   "id": "6e17bf53",
   "metadata": {},
   "outputs": [],
   "source": [
    "list_n.remove(\"B\")"
   ]
  },
  {
   "cell_type": "code",
   "execution_count": null,
   "id": "97bb3932",
   "metadata": {},
   "outputs": [],
   "source": [
    "list_n"
   ]
  },
  {
   "cell_type": "markdown",
   "id": "32c4e77c",
   "metadata": {},
   "source": [
    "---"
   ]
  },
  {
   "cell_type": "code",
   "execution_count": null,
   "id": "b480227f",
   "metadata": {},
   "outputs": [],
   "source": []
  },
  {
   "cell_type": "code",
   "execution_count": 14,
   "id": "97a91e65",
   "metadata": {},
   "outputs": [],
   "source": [
    "lista_dinamica_2 = [0,1,2,3,4,5,6,7,8]"
   ]
  },
  {
   "cell_type": "code",
   "execution_count": 15,
   "id": "07094bb3",
   "metadata": {},
   "outputs": [
    {
     "data": {
      "text/plain": [
       "[0, 1, 2, 3, 4, 5, 6, 7, 8]"
      ]
     },
     "execution_count": 15,
     "metadata": {},
     "output_type": "execute_result"
    }
   ],
   "source": [
    "lista_dinamica_2"
   ]
  },
  {
   "cell_type": "code",
   "execution_count": 17,
   "id": "677f29a8",
   "metadata": {},
   "outputs": [
    {
     "name": "stdout",
     "output_type": "stream",
     "text": [
      "4\n",
      "6\n",
      "8\n"
     ]
    }
   ],
   "source": [
    "for valor in lista_dinamica_2:    \n",
    "    if valor > 3:\n",
    "        lista_dinamica_2.remove(valor)\n",
    "        print(valor)"
   ]
  },
  {
   "cell_type": "markdown",
   "id": "3bbac722",
   "metadata": {},
   "source": [
    "---"
   ]
  },
  {
   "cell_type": "markdown",
   "id": "5618dafa",
   "metadata": {},
   "source": [
    "# Diccionarios "
   ]
  },
  {
   "cell_type": "code",
   "execution_count": 19,
   "id": "25e15bec",
   "metadata": {},
   "outputs": [],
   "source": [
    "param = {\n",
    "    \"Clave_1\" : 1,\n",
    "    \"Clave_2\" : 12,\n",
    "    \"Clave_3\" : 13,\n",
    "    \"Clave_4\" : 14,\n",
    "    \"Clave_5\" : 15\n",
    "    \n",
    "}"
   ]
  },
  {
   "cell_type": "code",
   "execution_count": 20,
   "id": "da60d527",
   "metadata": {},
   "outputs": [
    {
     "data": {
      "text/plain": [
       "1"
      ]
     },
     "execution_count": 20,
     "metadata": {},
     "output_type": "execute_result"
    }
   ],
   "source": [
    "param[\"Clave_1\"]"
   ]
  },
  {
   "cell_type": "code",
   "execution_count": 21,
   "id": "234b66a3",
   "metadata": {},
   "outputs": [],
   "source": [
    "param[\"Clave_1\"] = \"madriguera\""
   ]
  },
  {
   "cell_type": "code",
   "execution_count": 22,
   "id": "5fb8a40f",
   "metadata": {},
   "outputs": [
    {
     "data": {
      "text/plain": [
       "'madriguera'"
      ]
     },
     "execution_count": 22,
     "metadata": {},
     "output_type": "execute_result"
    }
   ],
   "source": [
    "param[\"Clave_1\"]"
   ]
  },
  {
   "cell_type": "code",
   "execution_count": 23,
   "id": "4ea6446b",
   "metadata": {},
   "outputs": [
    {
     "data": {
      "text/plain": [
       "{'Clave_1': 'madriguera',\n",
       " 'Clave_2': 12,\n",
       " 'Clave_3': 13,\n",
       " 'Clave_4': 14,\n",
       " 'Clave_5': 15}"
      ]
     },
     "execution_count": 23,
     "metadata": {},
     "output_type": "execute_result"
    }
   ],
   "source": [
    "param"
   ]
  },
  {
   "cell_type": "code",
   "execution_count": null,
   "id": "425d88d1",
   "metadata": {},
   "outputs": [],
   "source": []
  },
  {
   "cell_type": "markdown",
   "id": "924eb884",
   "metadata": {},
   "source": [
    "---"
   ]
  },
  {
   "cell_type": "markdown",
   "id": "69e96f85",
   "metadata": {},
   "source": [
    "# Funciones y Clases"
   ]
  },
  {
   "cell_type": "markdown",
   "id": "a8ec5ce5",
   "metadata": {},
   "source": [
    "def Nombre(arg1,arg2):\n",
    "    Sentencias, definiciones"
   ]
  },
  {
   "cell_type": "code",
   "execution_count": 26,
   "id": "053279ed",
   "metadata": {},
   "outputs": [],
   "source": [
    "def suma(a,b):\n",
    "    c = a + b\n",
    "    print(c)"
   ]
  },
  {
   "cell_type": "code",
   "execution_count": 27,
   "id": "e779572c",
   "metadata": {},
   "outputs": [],
   "source": [
    "lista_dinamica_2 = [2,4,6,8,10]"
   ]
  },
  {
   "cell_type": "code",
   "execution_count": 28,
   "id": "3a639788",
   "metadata": {},
   "outputs": [
    {
     "data": {
      "text/plain": [
       "[2, 4, 6, 8, 10]"
      ]
     },
     "execution_count": 28,
     "metadata": {},
     "output_type": "execute_result"
    }
   ],
   "source": [
    "lista_dinamica_2"
   ]
  },
  {
   "cell_type": "code",
   "execution_count": 29,
   "id": "19fd8207",
   "metadata": {},
   "outputs": [
    {
     "name": "stdout",
     "output_type": "stream",
     "text": [
      "12\n",
      "14\n",
      "16\n",
      "18\n",
      "20\n"
     ]
    }
   ],
   "source": [
    "for valor in lista_dinamica_2:\n",
    "    suma(valor,10)"
   ]
  },
  {
   "cell_type": "code",
   "execution_count": 30,
   "id": "3857014b",
   "metadata": {},
   "outputs": [
    {
     "ename": "NameError",
     "evalue": "name 'b' is not defined",
     "output_type": "error",
     "traceback": [
      "\u001b[1;31m---------------------------------------------------------------------------\u001b[0m",
      "\u001b[1;31mNameError\u001b[0m                                 Traceback (most recent call last)",
      "Input \u001b[1;32mIn [30]\u001b[0m, in \u001b[0;36m<cell line: 1>\u001b[1;34m()\u001b[0m\n\u001b[1;32m----> 1\u001b[0m \u001b[43mb\u001b[49m\n",
      "\u001b[1;31mNameError\u001b[0m: name 'b' is not defined"
     ]
    }
   ],
   "source": [
    "b = 7"
   ]
  },
  {
   "cell_type": "code",
   "execution_count": 33,
   "id": "ab28efab",
   "metadata": {},
   "outputs": [],
   "source": [
    "palabras = \"aabacaaaaaaaaaaadt\""
   ]
  },
  {
   "cell_type": "code",
   "execution_count": 34,
   "id": "a274b048",
   "metadata": {},
   "outputs": [
    {
     "data": {
      "text/plain": [
       "{'a', 'b', 'c', 'd', 't'}"
      ]
     },
     "execution_count": 34,
     "metadata": {},
     "output_type": "execute_result"
    }
   ],
   "source": [
    "set(palabras)"
   ]
  },
  {
   "cell_type": "code",
   "execution_count": 35,
   "id": "25ce294e",
   "metadata": {},
   "outputs": [],
   "source": [
    "numeros = [1,1,1,1,1,5,5,5,5,2,6,7]"
   ]
  },
  {
   "cell_type": "code",
   "execution_count": 36,
   "id": "10dfddfc",
   "metadata": {},
   "outputs": [
    {
     "data": {
      "text/plain": [
       "{1, 2, 5, 6, 7}"
      ]
     },
     "execution_count": 36,
     "metadata": {},
     "output_type": "execute_result"
    }
   ],
   "source": [
    "set(numeros)"
   ]
  },
  {
   "cell_type": "markdown",
   "id": "54c6445b",
   "metadata": {},
   "source": [
    "---"
   ]
  },
  {
   "cell_type": "markdown",
   "id": "651bb74c",
   "metadata": {},
   "source": [
    "<h4>Clases</h4>"
   ]
  },
  {
   "cell_type": "code",
   "execution_count": 64,
   "id": "93013ca3",
   "metadata": {},
   "outputs": [],
   "source": [
    "class Persona():\n",
    "    #Atributos\n",
    "    nombre = \"\"\n",
    "    edad= \"\"\n",
    "    \n",
    "    #Metodos = Funciones\n",
    "    def print_nombre(self):\n",
    "        print(\"nombre: \",self.nombre)\n",
    "    \n",
    "    def print_edad(self):\n",
    "        print(\"edad: \",self.edad)\n",
    "    "
   ]
  },
  {
   "cell_type": "code",
   "execution_count": 65,
   "id": "603f89e0",
   "metadata": {},
   "outputs": [],
   "source": [
    "Freddy = Persona()"
   ]
  },
  {
   "cell_type": "code",
   "execution_count": 66,
   "id": "55ebcea2",
   "metadata": {},
   "outputs": [],
   "source": [
    "Freddy.nombre = \"Freddy\"\n",
    "Freddy.edad = \"25\""
   ]
  },
  {
   "cell_type": "code",
   "execution_count": 67,
   "id": "5a15065e",
   "metadata": {},
   "outputs": [
    {
     "name": "stdout",
     "output_type": "stream",
     "text": [
      "nombre:  Freddy\n"
     ]
    }
   ],
   "source": [
    "Freddy.print_nombre()"
   ]
  },
  {
   "cell_type": "code",
   "execution_count": 68,
   "id": "e44c4044",
   "metadata": {},
   "outputs": [
    {
     "name": "stdout",
     "output_type": "stream",
     "text": [
      "edad:  25\n"
     ]
    }
   ],
   "source": [
    "Freddy.print_edad()"
   ]
  },
  {
   "cell_type": "markdown",
   "id": "10ed5e19",
   "metadata": {},
   "source": [
    "---"
   ]
  },
  {
   "cell_type": "code",
   "execution_count": 69,
   "id": "e3bcc624",
   "metadata": {},
   "outputs": [],
   "source": [
    "Carolina = Persona()"
   ]
  },
  {
   "cell_type": "code",
   "execution_count": 70,
   "id": "b9683cb6",
   "metadata": {},
   "outputs": [],
   "source": [
    "Carolina.nombre = \"Carolina\"\n",
    "Carolina.edad = \"27\""
   ]
  },
  {
   "cell_type": "code",
   "execution_count": 71,
   "id": "cc81a121",
   "metadata": {},
   "outputs": [
    {
     "name": "stdout",
     "output_type": "stream",
     "text": [
      "edad:  27\n"
     ]
    }
   ],
   "source": [
    "Carolina.print_edad()"
   ]
  },
  {
   "cell_type": "code",
   "execution_count": 72,
   "id": "87019e98",
   "metadata": {},
   "outputs": [
    {
     "name": "stdout",
     "output_type": "stream",
     "text": [
      "nombre:  Carolina\n"
     ]
    }
   ],
   "source": [
    "Carolina.print_nombre()"
   ]
  },
  {
   "cell_type": "markdown",
   "id": "be2640c0",
   "metadata": {},
   "source": [
    "---"
   ]
  },
  {
   "cell_type": "code",
   "execution_count": 76,
   "id": "414de9ec",
   "metadata": {},
   "outputs": [],
   "source": [
    "Iveth = Persona()\n",
    "Iveth.nombre = \"Iveth\"\n",
    "Iveth.edad = \"27\""
   ]
  },
  {
   "cell_type": "code",
   "execution_count": 77,
   "id": "af78db44",
   "metadata": {},
   "outputs": [
    {
     "name": "stdout",
     "output_type": "stream",
     "text": [
      "edad:  27\n"
     ]
    }
   ],
   "source": [
    "Iveth.print_edad()"
   ]
  },
  {
   "cell_type": "code",
   "execution_count": 78,
   "id": "79bfb8b2",
   "metadata": {},
   "outputs": [
    {
     "name": "stdout",
     "output_type": "stream",
     "text": [
      "nombre:  Iveth\n"
     ]
    }
   ],
   "source": [
    "Iveth.print_nombre()"
   ]
  },
  {
   "cell_type": "markdown",
   "id": "73b7d78d",
   "metadata": {},
   "source": [
    "---"
   ]
  },
  {
   "cell_type": "code",
   "execution_count": 79,
   "id": "b6b21a1b",
   "metadata": {},
   "outputs": [],
   "source": [
    "Lista_personas = []"
   ]
  },
  {
   "cell_type": "code",
   "execution_count": 80,
   "id": "4fc98224",
   "metadata": {},
   "outputs": [],
   "source": [
    "Lista_personas.append(Iveth)"
   ]
  },
  {
   "cell_type": "code",
   "execution_count": 81,
   "id": "721a5286",
   "metadata": {},
   "outputs": [],
   "source": [
    "Lista_personas.append(Carolina)"
   ]
  },
  {
   "cell_type": "code",
   "execution_count": 82,
   "id": "b36b128a",
   "metadata": {},
   "outputs": [],
   "source": [
    "Lista_personas.append(Freddy)"
   ]
  },
  {
   "cell_type": "code",
   "execution_count": 83,
   "id": "8050253b",
   "metadata": {},
   "outputs": [
    {
     "data": {
      "text/plain": [
       "[<__main__.Persona at 0x1b5af0fb700>,\n",
       " <__main__.Persona at 0x1b5af353b20>,\n",
       " <__main__.Persona at 0x1b5af353100>]"
      ]
     },
     "execution_count": 83,
     "metadata": {},
     "output_type": "execute_result"
    }
   ],
   "source": [
    "Lista_personas"
   ]
  },
  {
   "cell_type": "markdown",
   "id": "bfed1712",
   "metadata": {},
   "source": [
    "---"
   ]
  },
  {
   "cell_type": "code",
   "execution_count": 84,
   "id": "6665353e",
   "metadata": {},
   "outputs": [
    {
     "name": "stdout",
     "output_type": "stream",
     "text": [
      "nombre:  Iveth\n",
      "nombre:  Carolina\n",
      "nombre:  Freddy\n"
     ]
    }
   ],
   "source": [
    "for person in Lista_personas:\n",
    "    person.print_nombre()"
   ]
  },
  {
   "cell_type": "code",
   "execution_count": null,
   "id": "5c97f7fa",
   "metadata": {},
   "outputs": [],
   "source": []
  }
 ],
 "metadata": {
  "kernelspec": {
   "display_name": "Python 3 (ipykernel)",
   "language": "python",
   "name": "python3"
  },
  "language_info": {
   "codemirror_mode": {
    "name": "ipython",
    "version": 3
   },
   "file_extension": ".py",
   "mimetype": "text/x-python",
   "name": "python",
   "nbconvert_exporter": "python",
   "pygments_lexer": "ipython3",
   "version": "3.10.4"
  }
 },
 "nbformat": 4,
 "nbformat_minor": 5
}
