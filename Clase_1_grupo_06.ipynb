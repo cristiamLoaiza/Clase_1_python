{
 "cells": [
  {
   "cell_type": "markdown",
   "id": "04dcede9",
   "metadata": {},
   "source": [
    "# Listas = ? Tupla"
   ]
  },
  {
   "cell_type": "code",
   "execution_count": 1,
   "id": "9e6368a0",
   "metadata": {},
   "outputs": [],
   "source": [
    "tupla = ( 1,2,4,5,6,7 )"
   ]
  },
  {
   "cell_type": "code",
   "execution_count": 2,
   "id": "0bc8ae54",
   "metadata": {},
   "outputs": [
    {
     "data": {
      "text/plain": [
       "(1, 2, 4, 5, 6, 7)"
      ]
     },
     "execution_count": 2,
     "metadata": {},
     "output_type": "execute_result"
    }
   ],
   "source": [
    "tupla"
   ]
  },
  {
   "cell_type": "code",
   "execution_count": 3,
   "id": "feae6038",
   "metadata": {},
   "outputs": [
    {
     "data": {
      "text/plain": [
       "1"
      ]
     },
     "execution_count": 3,
     "metadata": {},
     "output_type": "execute_result"
    }
   ],
   "source": [
    "tupla[0]"
   ]
  },
  {
   "cell_type": "code",
   "execution_count": 4,
   "id": "637814a3",
   "metadata": {},
   "outputs": [
    {
     "ename": "TypeError",
     "evalue": "'tuple' object does not support item assignment",
     "output_type": "error",
     "traceback": [
      "\u001b[1;31m---------------------------------------------------------------------------\u001b[0m",
      "\u001b[1;31mTypeError\u001b[0m                                 Traceback (most recent call last)",
      "Input \u001b[1;32mIn [4]\u001b[0m, in \u001b[0;36m<cell line: 1>\u001b[1;34m()\u001b[0m\n\u001b[1;32m----> 1\u001b[0m tupla[\u001b[38;5;241m0\u001b[39m] \u001b[38;5;241m=\u001b[39m \u001b[38;5;241m45\u001b[39m\n",
      "\u001b[1;31mTypeError\u001b[0m: 'tuple' object does not support item assignment"
     ]
    }
   ],
   "source": [
    "tupla[0] = 45"
   ]
  },
  {
   "cell_type": "code",
   "execution_count": 10,
   "id": "c3f7a94c",
   "metadata": {},
   "outputs": [],
   "source": [
    "lista_n = [23,45,67,89]"
   ]
  },
  {
   "cell_type": "code",
   "execution_count": 12,
   "id": "0e0fbfaa",
   "metadata": {},
   "outputs": [
    {
     "name": "stdout",
     "output_type": "stream",
     "text": [
      "[23, 45, 67, 89]\n"
     ]
    }
   ],
   "source": [
    "print(lista_n)"
   ]
  },
  {
   "cell_type": "code",
   "execution_count": 13,
   "id": "d051a584",
   "metadata": {},
   "outputs": [
    {
     "data": {
      "text/plain": [
       "23"
      ]
     },
     "execution_count": 13,
     "metadata": {},
     "output_type": "execute_result"
    }
   ],
   "source": [
    "lista_n[0]"
   ]
  },
  {
   "cell_type": "code",
   "execution_count": 14,
   "id": "1cea24f9",
   "metadata": {},
   "outputs": [],
   "source": [
    "lista_n[0] = 100"
   ]
  },
  {
   "cell_type": "code",
   "execution_count": 15,
   "id": "fbd60184",
   "metadata": {},
   "outputs": [
    {
     "data": {
      "text/plain": [
       "[100, 45, 67, 89]"
      ]
     },
     "execution_count": 15,
     "metadata": {},
     "output_type": "execute_result"
    }
   ],
   "source": [
    "lista_n"
   ]
  },
  {
   "cell_type": "markdown",
   "id": "de165190",
   "metadata": {},
   "source": [
    "---"
   ]
  },
  {
   "cell_type": "code",
   "execution_count": 29,
   "id": "2d42668d",
   "metadata": {},
   "outputs": [],
   "source": [
    "matriz= [[11,22,[33,24,45,67]],[4,5,6,56,78]]"
   ]
  },
  {
   "cell_type": "code",
   "execution_count": 30,
   "id": "fa1792e3",
   "metadata": {},
   "outputs": [
    {
     "data": {
      "text/plain": [
       "[[11, 22, [33, 24, 45, 67]], [4, 5, 6, 56, 78]]"
      ]
     },
     "execution_count": 30,
     "metadata": {},
     "output_type": "execute_result"
    }
   ],
   "source": [
    "matriz"
   ]
  },
  {
   "cell_type": "code",
   "execution_count": 32,
   "id": "e1e0e89e",
   "metadata": {},
   "outputs": [
    {
     "name": "stdout",
     "output_type": "stream",
     "text": [
      "45\n"
     ]
    }
   ],
   "source": [
    "print(matriz[0][2][2])"
   ]
  },
  {
   "cell_type": "markdown",
   "id": "2ee4a890",
   "metadata": {},
   "source": [
    "---"
   ]
  },
  {
   "cell_type": "code",
   "execution_count": 33,
   "id": "cfa4ab49",
   "metadata": {},
   "outputs": [],
   "source": [
    "lista_variada = [\"palabra\", True, 34.19, 57, False,\"+\"]"
   ]
  },
  {
   "cell_type": "code",
   "execution_count": 34,
   "id": "93603e01",
   "metadata": {},
   "outputs": [
    {
     "data": {
      "text/plain": [
       "['palabra', True, 34.19, 57, False, '+']"
      ]
     },
     "execution_count": 34,
     "metadata": {},
     "output_type": "execute_result"
    }
   ],
   "source": [
    "lista_variada"
   ]
  },
  {
   "cell_type": "markdown",
   "id": "b415a61d",
   "metadata": {},
   "source": [
    "---\n",
    "# LOOPs\n",
    "\n",
    "while - for"
   ]
  },
  {
   "cell_type": "code",
   "execution_count": 37,
   "id": "dee2765f",
   "metadata": {},
   "outputs": [
    {
     "name": "stdout",
     "output_type": "stream",
     "text": [
      "palabrapalabra\n",
      "2\n",
      "68.38\n",
      "114\n",
      "0\n",
      "++\n"
     ]
    }
   ],
   "source": [
    "for valor in lista_variada:\n",
    "    print(valor * 2)"
   ]
  },
  {
   "cell_type": "code",
   "execution_count": 38,
   "id": "62f61872",
   "metadata": {},
   "outputs": [],
   "source": [
    "str_n = \"palabra\""
   ]
  },
  {
   "cell_type": "code",
   "execution_count": 39,
   "id": "82cad99c",
   "metadata": {},
   "outputs": [
    {
     "data": {
      "text/plain": [
       "'palabrapalabrapalabrapalabrapalabrapalabrapalabrapalabrapalabra'"
      ]
     },
     "execution_count": 39,
     "metadata": {},
     "output_type": "execute_result"
    }
   ],
   "source": [
    "str_n *9"
   ]
  },
  {
   "cell_type": "markdown",
   "id": "e4b12176",
   "metadata": {},
   "source": [
    "---"
   ]
  },
  {
   "cell_type": "markdown",
   "id": "e9aa883d",
   "metadata": {},
   "source": [
    "# Listas dinamicas"
   ]
  },
  {
   "cell_type": "code",
   "execution_count": 58,
   "id": "85fb5d1a",
   "metadata": {},
   "outputs": [],
   "source": [
    "lista_d = []"
   ]
  },
  {
   "cell_type": "code",
   "execution_count": null,
   "id": "cf9fe2ae",
   "metadata": {},
   "outputs": [],
   "source": []
  },
  {
   "cell_type": "code",
   "execution_count": 59,
   "id": "a038d4da",
   "metadata": {},
   "outputs": [],
   "source": [
    "lista_d.append(\"Dog\")"
   ]
  },
  {
   "cell_type": "code",
   "execution_count": 60,
   "id": "033f061d",
   "metadata": {},
   "outputs": [],
   "source": [
    "lista_d.append(\"Jirafa\")\n",
    "lista_d.append(\"Leon\")\n",
    "lista_d.append(\"Gato\")\n",
    "lista_d.append(\"Serpiente\")\n"
   ]
  },
  {
   "cell_type": "code",
   "execution_count": 61,
   "id": "829e7633",
   "metadata": {},
   "outputs": [
    {
     "data": {
      "text/plain": [
       "['Dog', 'Jirafa', 'Leon', 'Gato', 'Serpiente']"
      ]
     },
     "execution_count": 61,
     "metadata": {},
     "output_type": "execute_result"
    }
   ],
   "source": [
    "lista_d"
   ]
  },
  {
   "cell_type": "code",
   "execution_count": 66,
   "id": "a9094224",
   "metadata": {},
   "outputs": [],
   "source": [
    "lista_d.insert(5,\"Pato\")"
   ]
  },
  {
   "cell_type": "code",
   "execution_count": 67,
   "id": "888df8f6",
   "metadata": {},
   "outputs": [
    {
     "data": {
      "text/plain": [
       "['Dog', 'Gato', 'Jirafa', 'Leon', 'Serpiente', 'Pato']"
      ]
     },
     "execution_count": 67,
     "metadata": {},
     "output_type": "execute_result"
    }
   ],
   "source": [
    "lista_d"
   ]
  },
  {
   "cell_type": "code",
   "execution_count": 44,
   "id": "197c2709",
   "metadata": {},
   "outputs": [
    {
     "data": {
      "text/plain": [
       "2"
      ]
     },
     "execution_count": 44,
     "metadata": {},
     "output_type": "execute_result"
    }
   ],
   "source": [
    "lista_d.index(\"Jirafa\")"
   ]
  },
  {
   "cell_type": "code",
   "execution_count": 45,
   "id": "c429d3c3",
   "metadata": {},
   "outputs": [],
   "source": [
    "lista_d.remove(\"Jirafa\")"
   ]
  },
  {
   "cell_type": "code",
   "execution_count": 46,
   "id": "7ae5aeba",
   "metadata": {},
   "outputs": [
    {
     "name": "stdout",
     "output_type": "stream",
     "text": [
      "['Dog', 'Gato', 'Leon', 'Serpiente']\n"
     ]
    }
   ],
   "source": [
    "print(lista_d)"
   ]
  },
  {
   "cell_type": "code",
   "execution_count": 47,
   "id": "cec0588b",
   "metadata": {},
   "outputs": [
    {
     "data": {
      "text/plain": [
       "'Serpiente'"
      ]
     },
     "execution_count": 47,
     "metadata": {},
     "output_type": "execute_result"
    }
   ],
   "source": [
    "lista_d.pop()"
   ]
  },
  {
   "cell_type": "code",
   "execution_count": 62,
   "id": "c2660a8d",
   "metadata": {},
   "outputs": [
    {
     "name": "stdout",
     "output_type": "stream",
     "text": [
      "['Dog', 'Jirafa', 'Leon', 'Gato', 'Serpiente']\n"
     ]
    }
   ],
   "source": [
    "print(lista_d)"
   ]
  },
  {
   "cell_type": "code",
   "execution_count": 63,
   "id": "b11a0c37",
   "metadata": {},
   "outputs": [],
   "source": [
    "lista_d.sort()"
   ]
  },
  {
   "cell_type": "code",
   "execution_count": 64,
   "id": "ad046b38",
   "metadata": {},
   "outputs": [
    {
     "data": {
      "text/plain": [
       "['Dog', 'Gato', 'Jirafa', 'Leon', 'Serpiente']"
      ]
     },
     "execution_count": 64,
     "metadata": {},
     "output_type": "execute_result"
    }
   ],
   "source": [
    "lista_d"
   ]
  },
  {
   "cell_type": "markdown",
   "id": "059304cc",
   "metadata": {},
   "source": [
    "# Diccionarios"
   ]
  },
  {
   "cell_type": "code",
   "execution_count": 68,
   "id": "bc71879c",
   "metadata": {},
   "outputs": [],
   "source": [
    "params = {\n",
    "    \"clave_1\":True,\n",
    "    \"clave_2\": 34,\n",
    "    \"clave_3\": \"palabra\"\n",
    "}"
   ]
  },
  {
   "cell_type": "markdown",
   "id": "19f8e186",
   "metadata": {},
   "source": [
    "# Funciones"
   ]
  },
  {
   "cell_type": "markdown",
   "id": "2970e8fc",
   "metadata": {},
   "source": [
    "def nombre(arg1,arg2 ...):\n",
    "    sentencias"
   ]
  },
  {
   "cell_type": "code",
   "execution_count": 70,
   "id": "7883f068",
   "metadata": {},
   "outputs": [],
   "source": [
    "def multiplicar(a,b):\n",
    "    c = a * b\n",
    "    print(c)"
   ]
  },
  {
   "cell_type": "code",
   "execution_count": 71,
   "id": "0d549cc5",
   "metadata": {},
   "outputs": [],
   "source": [
    "vector_numeros = [2,4,6,8,10]"
   ]
  },
  {
   "cell_type": "code",
   "execution_count": 72,
   "id": "1b0b4a51",
   "metadata": {},
   "outputs": [
    {
     "name": "stdout",
     "output_type": "stream",
     "text": [
      "4\n",
      "8\n",
      "12\n",
      "16\n",
      "20\n"
     ]
    }
   ],
   "source": [
    "for num in vector_numeros:\n",
    "    multiplicar(num,2)"
   ]
  },
  {
   "cell_type": "code",
   "execution_count": null,
   "id": "1db6d7de",
   "metadata": {},
   "outputs": [],
   "source": [
    "def contador_palabras(texto):\n",
    "    sentencia"
   ]
  },
  {
   "cell_type": "code",
   "execution_count": null,
   "id": "f02e5811",
   "metadata": {},
   "outputs": [],
   "source": [
    "parametros = \" ioueiojfodjjkhgiohgdnarjewiorheondkjfkl jfadsklfjklads;jf\""
   ]
  },
  {
   "cell_type": "code",
   "execution_count": null,
   "id": "3f542052",
   "metadata": {},
   "outputs": [],
   "source": [
    "contador_palabras(parametros)"
   ]
  }
 ],
 "metadata": {
  "kernelspec": {
   "display_name": "Python 3 (ipykernel)",
   "language": "python",
   "name": "python3"
  },
  "language_info": {
   "codemirror_mode": {
    "name": "ipython",
    "version": 3
   },
   "file_extension": ".py",
   "mimetype": "text/x-python",
   "name": "python",
   "nbconvert_exporter": "python",
   "pygments_lexer": "ipython3",
   "version": "3.10.4"
  }
 },
 "nbformat": 4,
 "nbformat_minor": 5
}
